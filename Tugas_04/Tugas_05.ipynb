{
 "cells": [
  {
   "cell_type": "markdown",
   "metadata": {},
   "source": [
    "# <font color='chocolate'>Analisis Data Survei Mengenai Keterampilan Menggunakan Internet dan E-Learning</font>\n",
    "\n",
    "Note : Gunakan https://nbviewer.jupyter.org Untuk Menampilkan Warna Teks"
   ]
  },
  {
   "cell_type": "markdown",
   "metadata": {},
   "source": [
    "<h3> Pada kesempatan kali ini, kami akan melakukan analisa data survei yang telah dikumpulkan. data survei tersebut berisi data dari 500 orang yang berbeda - beda."
   ]
  },
  {
   "cell_type": "markdown",
   "metadata": {},
   "source": [
    "<font color='blue'> untuk pertanyaan - pertanyaan survei, kami menggunakan inisial seperti ini untuk memudahkan pengolahan data</font>\n",
    "\n",
    "<font color='blue'> Q1 = Adanya E-Learning membuat pelajar dapat mengakses materi pelajaran dimana saja, selama terhubung dengan jaringan Internet? </font>\n",
    "\n",
    "    \n",
    "<font color='blue'>Q2 = Setelah menggunakan E-Learning, anda lebih cepat menangkap materi pembelajaran ?</font>\n",
    "\n",
    "\n",
    "<font color='blue'>Q3 = Dengan adanya E-Learning, materi - materi pembelajaran lebih mudah untuk dimengerti ?</font>\n",
    "\n",
    "\n",
    "<font color='blue'>Q4 = Terdapat banyak materi internet yang mengandung konten - konten negatif ?</font>\n",
    "\n",
    "\n",
    "<font color='blue'>Q5 = Apakah Biaya untuk mengakses internet di Indonesia mahal ?</font>\n",
    "\n",
    "\n",
    "<font color='blue'>Q6 = Dengan adanya E-learning, proses pembelajaran tidak memerlukan banyak biaya ?</font>\n",
    "\n",
    "\n",
    "<font color='blue'>Q7 = Apakah Ada materi yang tidak bisa disampaikan melalui E-learning. seperti praktek perakitan hardware ?</font>\n",
    "\n",
    "\n",
    "<font color='blue'>Q8 = Apakah akses internet di tempat asal sudah cepat ? </font>"
   ]
  },
  {
   "cell_type": "markdown",
   "metadata": {},
   "source": [
    "# Analisis Menggunakan Python"
   ]
  },
  {
   "cell_type": "markdown",
   "metadata": {},
   "source": [
    "Sebelum melakukan analisa data, kita harus mengubah data survei yang telah di dapat agar bisa dilakukan analisis dengan benar tanpa adanya kesalahan"
   ]
  },
  {
   "cell_type": "code",
   "execution_count": 24,
   "metadata": {},
   "outputs": [
    {
     "data": {
      "image/png": "[encoded data removed]",
      "text/plain": [
       "<IPython.core.display.Image object>"
      ]
     },
     "execution_count": 24,
     "metadata": {
      "image/png": {
       "height": 600,
       "width": 600
      }
     },
     "output_type": "execute_result"
    }
   ],
   "source": [
    "#Nilai jawaban dari tiap pertanyaan"
   ]
  },
  {
   "cell_type": "markdown",
   "metadata": {},
   "source": [
    "<font color='green'> Tabel di atas menunjukan nilai jawaban dari tiap pertanyaan yang dijawab oleh responden. untuk pertanyaan Q4 diberi nilai yang berkebalikan dengan pertanyaan lainnya karena Q4 tersebut berisi pertanyaan negatif. </font> "
   ]
  },
  {
   "cell_type": "code",
   "execution_count": 14,
   "metadata": {},
   "outputs": [
    {
     "data": {
      "image/png": "[encoded data removed]",
      "text/plain": [
       "<IPython.core.display.Image object>"
      ]
     },
     "execution_count": 14,
     "metadata": {
      "image/png": {
       "height": 600,
       "width": 600
      }
     },
     "output_type": "execute_result"
    }
   ],
   "source": [
    "#Head data"
   ]
  },
  {
   "cell_type": "code",
   "execution_count": 27,
   "metadata": {},
   "outputs": [
    {
     "data": {
      "image/png": "[encoded data removed]",
      "text/plain": [
       "<IPython.core.display.Image object>"
      ]
     },
     "execution_count": 27,
     "metadata": {
      "image/png": {
       "height": 600,
       "width": 600
      }
     },
     "output_type": "execute_result"
    }
   ],
   "source": [
    "#Tail data"
   ]
  },
  {
   "cell_type": "markdown",
   "metadata": {
    "raw_mimetype": "text/html"
   },
   "source": [
    "<font color='green'>2 Tabel diatas menunjukan 5 data awal dan 5 data terakhir. Data - data tersebut merupakan nilai dari jawaban responden terhadap pertanyaan survey </font>"
   ]
  },
  {
   "cell_type": "code",
   "execution_count": 23,
   "metadata": {},
   "outputs": [
    {
     "data": {
      "text/html": [
       "<div>\n",
       "<style scoped>\n",
       "    .dataframe tbody tr th:only-of-type {\n",
       "        vertical-align: middle;\n",
       "    }\n",
       "\n",
       "    .dataframe tbody tr th {\n",
       "        vertical-align: top;\n",
       "    }\n",
       "\n",
       "    .dataframe thead th {\n",
       "        text-align: right;\n",
       "    }\n",
       "</style>\n",
       "<table border=\"1\" class=\"dataframe\">\n",
       "  <thead>\n",
       "    <tr style=\"text-align: right;\">\n",
       "      <th></th>\n",
       "      <th>Kelompok 9</th>\n",
       "      <th>Sangat Setuju</th>\n",
       "      <th>Setuju</th>\n",
       "      <th>Ragu - Ragu</th>\n",
       "      <th>Tidak Setuju</th>\n",
       "      <th>Sangat Tidak Setuju</th>\n",
       "    </tr>\n",
       "  </thead>\n",
       "  <tbody>\n",
       "    <tr>\n",
       "      <th>0</th>\n",
       "      <td>Q1</td>\n",
       "      <td>5</td>\n",
       "      <td>4</td>\n",
       "      <td>3</td>\n",
       "      <td>2</td>\n",
       "      <td>1</td>\n",
       "    </tr>\n",
       "    <tr>\n",
       "      <th>1</th>\n",
       "      <td>Q2</td>\n",
       "      <td>5</td>\n",
       "      <td>4</td>\n",
       "      <td>3</td>\n",
       "      <td>2</td>\n",
       "      <td>1</td>\n",
       "    </tr>\n",
       "    <tr>\n",
       "      <th>2</th>\n",
       "      <td>Q3</td>\n",
       "      <td>5</td>\n",
       "      <td>4</td>\n",
       "      <td>3</td>\n",
       "      <td>2</td>\n",
       "      <td>1</td>\n",
       "    </tr>\n",
       "    <tr>\n",
       "      <th>3</th>\n",
       "      <td>Q4</td>\n",
       "      <td>1</td>\n",
       "      <td>2</td>\n",
       "      <td>3</td>\n",
       "      <td>4</td>\n",
       "      <td>5</td>\n",
       "    </tr>\n",
       "    <tr>\n",
       "      <th>4</th>\n",
       "      <td>Q5</td>\n",
       "      <td>5</td>\n",
       "      <td>4</td>\n",
       "      <td>3</td>\n",
       "      <td>2</td>\n",
       "      <td>1</td>\n",
       "    </tr>\n",
       "    <tr>\n",
       "      <th>5</th>\n",
       "      <td>Q6</td>\n",
       "      <td>5</td>\n",
       "      <td>4</td>\n",
       "      <td>3</td>\n",
       "      <td>2</td>\n",
       "      <td>1</td>\n",
       "    </tr>\n",
       "    <tr>\n",
       "      <th>6</th>\n",
       "      <td>Q7</td>\n",
       "      <td>5</td>\n",
       "      <td>4</td>\n",
       "      <td>3</td>\n",
       "      <td>2</td>\n",
       "      <td>1</td>\n",
       "    </tr>\n",
       "    <tr>\n",
       "      <th>7</th>\n",
       "      <td>Q8</td>\n",
       "      <td>5</td>\n",
       "      <td>4</td>\n",
       "      <td>3</td>\n",
       "      <td>2</td>\n",
       "      <td>1</td>\n",
       "    </tr>\n",
       "  </tbody>\n",
       "</table>\n",
       "</div>"
      ],
      "text/plain": [
       "  Kelompok 9  Sangat Setuju  Setuju  Ragu - Ragu  Tidak Setuju  \\\n",
       "0         Q1              5       4            3             2   \n",
       "1         Q2              5       4            3             2   \n",
       "2         Q3              5       4            3             2   \n",
       "3         Q4              1       2            3             4   \n",
       "4         Q5              5       4            3             2   \n",
       "5         Q6              5       4            3             2   \n",
       "6         Q7              5       4            3             2   \n",
       "7         Q8              5       4            3             2   \n",
       "\n",
       "   Sangat Tidak Setuju  \n",
       "0                    1  \n",
       "1                    1  \n",
       "2                    1  \n",
       "3                    5  \n",
       "4                    1  \n",
       "5                    1  \n",
       "6                    1  \n",
       "7                    1  "
      ]
     },
     "execution_count": 23,
     "metadata": {},
     "output_type": "execute_result"
    }
   ],
   "source": []
  }
 ],
 "metadata": {
  "celltoolbar": "Raw Cell Format",
  "hide_input": false,
  "kernelspec": {
   "display_name": "Python 3",
   "language": "python",
   "name": "python3"
  },
  "language_info": {
   "codemirror_mode": {
    "name": "ipython",
    "version": 3
   },
   "file_extension": ".py",
   "mimetype": "text/x-python",
   "name": "python",
   "nbconvert_exporter": "python",
   "pygments_lexer": "ipython3",
   "version": "3.7.6"
  }
 },
 "nbformat": 4,
 "nbformat_minor": 4
}
