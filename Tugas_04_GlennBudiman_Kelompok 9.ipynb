{
 "cells": [
  {
   "cell_type": "markdown",
   "metadata": {},
   "source": [
    "# Uji Data Kelompok 9"
   ]
  },
  {
   "cell_type": "code",
   "execution_count": 87,
   "metadata": {},
   "outputs": [],
   "source": [
    "options(warn=-1)\n",
    "library(readxl)\n",
    "data<-read_excel(\"D:/download/data2.xlsx\")"
   ]
  },
  {
   "cell_type": "code",
   "execution_count": 89,
   "metadata": {},
   "outputs": [
    {
     "data": {
      "text/html": [
       "<table>\n",
       "<thead><tr><th scope=col>Kelompok 9</th><th scope=col>Q1</th><th scope=col>Q2</th><th scope=col>Q3</th><th scope=col>Q4</th><th scope=col>Q5</th><th scope=col>Q6</th><th scope=col>Q7</th><th scope=col>Q8</th></tr></thead>\n",
       "<tbody>\n",
       "\t<tr><td>Sangat Setuju      </td><td>115                </td><td> 20                </td><td> 25                </td><td> 24                </td><td>156                </td><td> 23                </td><td>132                </td><td>  0                </td></tr>\n",
       "\t<tr><td>Setuju             </td><td>300                </td><td>144                </td><td>140                </td><td>113                </td><td>177                </td><td>115                </td><td>223                </td><td>  0                </td></tr>\n",
       "\t<tr><td>Ragu - Ragu        </td><td> 47                </td><td>219                </td><td>202                </td><td>135                </td><td> 93                </td><td>166                </td><td> 99                </td><td> 78                </td></tr>\n",
       "\t<tr><td>Tidak setuju       </td><td> 20                </td><td> 94                </td><td>106                </td><td>184                </td><td> 60                </td><td>159                </td><td> 42                </td><td>  0                </td></tr>\n",
       "\t<tr><td>Sangat Tidak Setuju</td><td> 19                </td><td> 24                </td><td> 28                </td><td> 45                </td><td> 15                </td><td> 38                </td><td>  5                </td><td>  0                </td></tr>\n",
       "\t<tr><td>Sangat Cepat       </td><td>  0                </td><td>  0                </td><td>  0                </td><td>  0                </td><td>  0                </td><td>  0                </td><td>  0                </td><td> 31                </td></tr>\n",
       "\t<tr><td>Cepat              </td><td>  0                </td><td>  0                </td><td>  0                </td><td>  0                </td><td>  0                </td><td>  0                </td><td>  0                </td><td>216                </td></tr>\n",
       "\t<tr><td>Pelan              </td><td>  0                </td><td>  0                </td><td>  0                </td><td>  0                </td><td>  0                </td><td>  0                </td><td>  0                </td><td>109                </td></tr>\n",
       "\t<tr><td>Sangat Pelan       </td><td>  0                </td><td>  0                </td><td>  0                </td><td>  0                </td><td>  0                </td><td>  0                </td><td>  0                </td><td> 67                </td></tr>\n",
       "</tbody>\n",
       "</table>\n"
      ],
      "text/latex": [
       "\\begin{tabular}{r|lllllllll}\n",
       " Kelompok 9 & Q1 & Q2 & Q3 & Q4 & Q5 & Q6 & Q7 & Q8\\\\\n",
       "\\hline\n",
       "\t Sangat Setuju       & 115                 &  20                 &  25                 &  24                 & 156                 &  23                 & 132                 &   0                \\\\\n",
       "\t Setuju              & 300                 & 144                 & 140                 & 113                 & 177                 & 115                 & 223                 &   0                \\\\\n",
       "\t Ragu - Ragu         &  47                 & 219                 & 202                 & 135                 &  93                 & 166                 &  99                 &  78                \\\\\n",
       "\t Tidak setuju        &  20                 &  94                 & 106                 & 184                 &  60                 & 159                 &  42                 &   0                \\\\\n",
       "\t Sangat Tidak Setuju &  19                 &  24                 &  28                 &  45                 &  15                 &  38                 &   5                 &   0                \\\\\n",
       "\t Sangat Cepat        &   0                 &   0                 &   0                 &   0                 &   0                 &   0                 &   0                 &  31                \\\\\n",
       "\t Cepat               &   0                 &   0                 &   0                 &   0                 &   0                 &   0                 &   0                 & 216                \\\\\n",
       "\t Pelan               &   0                 &   0                 &   0                 &   0                 &   0                 &   0                 &   0                 & 109                \\\\\n",
       "\t Sangat Pelan        &   0                 &   0                 &   0                 &   0                 &   0                 &   0                 &   0                 &  67                \\\\\n",
       "\\end{tabular}\n"
      ],
      "text/markdown": [
       "\n",
       "| Kelompok 9 | Q1 | Q2 | Q3 | Q4 | Q5 | Q6 | Q7 | Q8 |\n",
       "|---|---|---|---|---|---|---|---|---|\n",
       "| Sangat Setuju       | 115                 |  20                 |  25                 |  24                 | 156                 |  23                 | 132                 |   0                 |\n",
       "| Setuju              | 300                 | 144                 | 140                 | 113                 | 177                 | 115                 | 223                 |   0                 |\n",
       "| Ragu - Ragu         |  47                 | 219                 | 202                 | 135                 |  93                 | 166                 |  99                 |  78                 |\n",
       "| Tidak setuju        |  20                 |  94                 | 106                 | 184                 |  60                 | 159                 |  42                 |   0                 |\n",
       "| Sangat Tidak Setuju |  19                 |  24                 |  28                 |  45                 |  15                 |  38                 |   5                 |   0                 |\n",
       "| Sangat Cepat        |   0                 |   0                 |   0                 |   0                 |   0                 |   0                 |   0                 |  31                 |\n",
       "| Cepat               |   0                 |   0                 |   0                 |   0                 |   0                 |   0                 |   0                 | 216                 |\n",
       "| Pelan               |   0                 |   0                 |   0                 |   0                 |   0                 |   0                 |   0                 | 109                 |\n",
       "| Sangat Pelan        |   0                 |   0                 |   0                 |   0                 |   0                 |   0                 |   0                 |  67                 |\n",
       "\n"
      ],
      "text/plain": [
       "  Kelompok 9          Q1  Q2  Q3  Q4  Q5  Q6  Q7  Q8 \n",
       "1 Sangat Setuju       115  20  25  24 156  23 132   0\n",
       "2 Setuju              300 144 140 113 177 115 223   0\n",
       "3 Ragu - Ragu          47 219 202 135  93 166  99  78\n",
       "4 Tidak setuju         20  94 106 184  60 159  42   0\n",
       "5 Sangat Tidak Setuju  19  24  28  45  15  38   5   0\n",
       "6 Sangat Cepat          0   0   0   0   0   0   0  31\n",
       "7 Cepat                 0   0   0   0   0   0   0 216\n",
       "8 Pelan                 0   0   0   0   0   0   0 109\n",
       "9 Sangat Pelan          0   0   0   0   0   0   0  67"
      ]
     },
     "metadata": {},
     "output_type": "display_data"
    }
   ],
   "source": [
    "data"
   ]
  },
  {
   "cell_type": "markdown",
   "metadata": {},
   "source": [
    "# Alpha Cronbach (Reliability Analysis)\n",
    "Q1 = Adanya E-Learning membuat pelajar dapat mengakses materi pelajaran dimana saja, selama terhubung dengan jaringan Internet ?\n",
    "\n",
    "Q2 = Setelah menggunakan E-Learning, anda lebih cepat menangkap materi pembelajaran ?\n",
    "\n",
    "\n",
    "Q3 = Dengan adanya E-Learning, materi - materi pembelajaran lebih mudah untuk dimengerti ?\n",
    "\n",
    "\n",
    "Q4 = Terdapat banyak materi internet yang mengandung konten - konten negatif ?\n",
    "\n",
    "\n",
    "Q5 = Apakah Biaya untuk mengakses internet di Indonesia mahal ?\n",
    "\n",
    "\n",
    "Q6 = Dengan adanya E-learning, proses pembelajaran tidak memerlukan banyak biaya ?\n",
    "\n",
    "\n",
    "Q7 = Apakah Ada materi yang tidak bisa disampaikan melalui E-learning. seperti praktek perakitan hardware ?\n",
    "\n",
    "\n",
    "Q8 = Apakah akses internet di tempat asal sudah cepat ?\""
   ]
  },
  {
   "cell_type": "code",
   "execution_count": 88,
   "metadata": {},
   "outputs": [
    {
     "name": "stderr",
     "output_type": "stream",
     "text": [
      "In factor.stats, I could not find the RMSEA upper bound . Sorry about that\n"
     ]
    },
    {
     "name": "stdout",
     "output_type": "stream",
     "text": [
      "Some items ( Q8 ) were negatively correlated with the total scale and \n",
      "probably should be reversed.  \n",
      "To do this, run the function again with the 'check.keys=TRUE' option"
     ]
    },
    {
     "data": {
      "text/plain": [
       "\n",
       "Reliability analysis   \n",
       "Call: alpha(x = data)\n",
       "\n",
       "  raw_alpha std.alpha G6(smc) average_r S/N   ase mean sd median_r\n",
       "      0.86      0.86    0.96      0.43 5.9 0.062   56 55     0.54\n",
       "\n",
       " lower alpha upper     95% confidence boundaries\n",
       "0.73 0.86 0.98 \n",
       "\n",
       " Reliability if an item is dropped:\n",
       "   raw_alpha std.alpha G6(smc) average_r  S/N alpha se var.r med.r\n",
       "Q1      0.84      0.84    0.98      0.42  5.1    0.069 0.293  0.60\n",
       "Q2      0.80      0.80    0.96      0.37  4.1    0.084 0.288  0.50\n",
       "Q3      0.80      0.80    0.93      0.36  4.0    0.084 0.281  0.50\n",
       "Q4      0.83      0.82    0.97      0.40  4.6    0.076 0.283  0.54\n",
       "Q5      0.82      0.82    0.97      0.40  4.6    0.079 0.281  0.49\n",
       "Q6      0.82      0.81    0.95      0.38  4.3    0.078 0.278  0.50\n",
       "Q7      0.81      0.82    0.97      0.39  4.4    0.082 0.281  0.50\n",
       "Q8      0.94      0.94    0.98      0.69 15.9    0.039 0.048  0.64\n",
       "\n",
       " Item statistics \n",
       "   n raw.r std.r r.cor r.drop mean sd\n",
       "Q1 9  0.76  0.73  0.74   0.63   56 99\n",
       "Q2 9  0.91  0.93  0.87   0.87   56 80\n",
       "Q3 9  0.92  0.94  0.95   0.89   56 75\n",
       "Q4 9  0.79  0.81  0.79   0.72   56 70\n",
       "Q5 9  0.83  0.82  0.83   0.77   56 71\n",
       "Q6 9  0.85  0.87  0.86   0.80   56 71\n",
       "Q7 9  0.87  0.85  0.87   0.81   56 80\n",
       "Q8 9 -0.31 -0.29 -0.38  -0.44   56 73"
      ]
     },
     "metadata": {},
     "output_type": "display_data"
    }
   ],
   "source": [
    "library(psych)\n",
    "alpha(data)"
   ]
  },
  {
   "cell_type": "markdown",
   "metadata": {},
   "source": [
    "# Pengujian T-test (One Sample-Test)"
   ]
  },
  {
   "cell_type": "markdown",
   "metadata": {},
   "source": [
    "# Data Q1"
   ]
  },
  {
   "cell_type": "code",
   "execution_count": 70,
   "metadata": {},
   "outputs": [
    {
     "data": {
      "text/plain": [
       "\n",
       "\tOne Sample t-test\n",
       "\n",
       "data:  data$Q1\n",
       "t = 1.688, df = 8, p-value = 0.1299\n",
       "alternative hypothesis: true mean is not equal to 0\n",
       "95 percent confidence interval:\n",
       " -20.38196 131.71529\n",
       "sample estimates:\n",
       "mean of x \n",
       " 55.66667 \n"
      ]
     },
     "metadata": {},
     "output_type": "display_data"
    }
   ],
   "source": [
    "t.test(data$Q1)"
   ]
  },
  {
   "cell_type": "markdown",
   "metadata": {},
   "source": [
    "# Data Q2"
   ]
  },
  {
   "cell_type": "code",
   "execution_count": 71,
   "metadata": {},
   "outputs": [
    {
     "data": {
      "text/plain": [
       "\n",
       "\tOne Sample t-test\n",
       "\n",
       "data:  data$Q2\n",
       "t = 2.0994, df = 8, p-value = 0.069\n",
       "alternative hypothesis: true mean is not equal to 0\n",
       "95 percent confidence interval:\n",
       "  -5.477482 116.810816\n",
       "sample estimates:\n",
       "mean of x \n",
       " 55.66667 \n"
      ]
     },
     "metadata": {},
     "output_type": "display_data"
    }
   ],
   "source": [
    "t.test(data$Q2)"
   ]
  },
  {
   "cell_type": "markdown",
   "metadata": {},
   "source": [
    "# Data Q3"
   ]
  },
  {
   "cell_type": "code",
   "execution_count": 72,
   "metadata": {},
   "outputs": [
    {
     "data": {
      "text/plain": [
       "\n",
       "\tOne Sample t-test\n",
       "\n",
       "data:  data$Q3\n",
       "t = 2.2227, df = 8, p-value = 0.05694\n",
       "alternative hypothesis: true mean is not equal to 0\n",
       "95 percent confidence interval:\n",
       "  -2.085835 113.419168\n",
       "sample estimates:\n",
       "mean of x \n",
       " 55.66667 \n"
      ]
     },
     "metadata": {},
     "output_type": "display_data"
    }
   ],
   "source": [
    "t.test(data$Q3)"
   ]
  },
  {
   "cell_type": "markdown",
   "metadata": {},
   "source": [
    "# Data Q4"
   ]
  },
  {
   "cell_type": "code",
   "execution_count": 73,
   "metadata": {},
   "outputs": [
    {
     "data": {
      "text/plain": [
       "\n",
       "\tOne Sample t-test\n",
       "\n",
       "data:  data$Q4\n",
       "t = 2.3748, df = 8, p-value = 0.04491\n",
       "alternative hypothesis: true mean is not equal to 0\n",
       "95 percent confidence interval:\n",
       "   1.61203 109.72130\n",
       "sample estimates:\n",
       "mean of x \n",
       " 55.66667 \n"
      ]
     },
     "metadata": {},
     "output_type": "display_data"
    }
   ],
   "source": [
    "t.test(data$Q4)"
   ]
  },
  {
   "cell_type": "markdown",
   "metadata": {},
   "source": [
    "# Data Q5"
   ]
  },
  {
   "cell_type": "code",
   "execution_count": 74,
   "metadata": {},
   "outputs": [
    {
     "data": {
      "text/plain": [
       "\n",
       "\tOne Sample t-test\n",
       "\n",
       "data:  data$Q5\n",
       "t = 2.3544, df = 8, p-value = 0.04636\n",
       "alternative hypothesis: true mean is not equal to 0\n",
       "95 percent confidence interval:\n",
       "   1.144039 110.189294\n",
       "sample estimates:\n",
       "mean of x \n",
       " 55.66667 \n"
      ]
     },
     "metadata": {},
     "output_type": "display_data"
    }
   ],
   "source": [
    "t.test(data$Q5)"
   ]
  },
  {
   "cell_type": "markdown",
   "metadata": {},
   "source": [
    "# Data Q6"
   ]
  },
  {
   "cell_type": "code",
   "execution_count": 75,
   "metadata": {},
   "outputs": [
    {
     "data": {
      "text/plain": [
       "\n",
       "\tOne Sample t-test\n",
       "\n",
       "data:  data$Q6\n",
       "t = 2.3574, df = 8, p-value = 0.04614\n",
       "alternative hypothesis: true mean is not equal to 0\n",
       "95 percent confidence interval:\n",
       "   1.214524 110.118809\n",
       "sample estimates:\n",
       "mean of x \n",
       " 55.66667 \n"
      ]
     },
     "metadata": {},
     "output_type": "display_data"
    }
   ],
   "source": [
    "t.test(data$Q6)"
   ]
  },
  {
   "cell_type": "markdown",
   "metadata": {},
   "source": [
    "#  Data Q7"
   ]
  },
  {
   "cell_type": "code",
   "execution_count": 76,
   "metadata": {},
   "outputs": [
    {
     "data": {
      "text/plain": [
       "\n",
       "\tOne Sample t-test\n",
       "\n",
       "data:  data$Q7\n",
       "t = 2.0946, df = 8, p-value = 0.06952\n",
       "alternative hypothesis: true mean is not equal to 0\n",
       "95 percent confidence interval:\n",
       "  -5.618644 116.951977\n",
       "sample estimates:\n",
       "mean of x \n",
       " 55.66667 \n"
      ]
     },
     "metadata": {},
     "output_type": "display_data"
    }
   ],
   "source": [
    "t.test(data$Q7)"
   ]
  },
  {
   "cell_type": "markdown",
   "metadata": {},
   "source": [
    "# Data Q8"
   ]
  },
  {
   "cell_type": "code",
   "execution_count": 77,
   "metadata": {},
   "outputs": [
    {
     "data": {
      "text/plain": [
       "\n",
       "\tOne Sample t-test\n",
       "\n",
       "data:  data$Q8\n",
       "t = 2.2998, df = 8, p-value = 0.05048\n",
       "alternative hypothesis: true mean is not equal to 0\n",
       "95 percent confidence interval:\n",
       "  -0.1491672 111.4825005\n",
       "sample estimates:\n",
       "mean of x \n",
       " 55.66667 \n"
      ]
     },
     "metadata": {},
     "output_type": "display_data"
    }
   ],
   "source": [
    "t.test(data$Q8)"
   ]
  },
  {
   "cell_type": "markdown",
   "metadata": {},
   "source": [
    "# Principal Component Analysis (PCA)"
   ]
  },
  {
   "cell_type": "code",
   "execution_count": 78,
   "metadata": {},
   "outputs": [
    {
     "data": {
      "text/plain": [
       "Importance of components:\n",
       "                            Comp.1     Comp.2      Comp.3      Comp.4\n",
       "Standard deviation     170.4088282 93.2739788 62.10345277 27.63731899\n",
       "Proportion of Variance   0.6751899  0.2022846  0.08967539  0.01775962\n",
       "Cumulative Proportion    0.6751899  0.8774745  0.96714990  0.98490952\n",
       "                            Comp.5       Comp.6 Comp.7 Comp.8\n",
       "Standard deviation     25.36972305 2.3242064972      0      0\n",
       "Proportion of Variance  0.01496488 0.0001256005      0      0\n",
       "Cumulative Proportion   0.99987440 1.0000000000      1      1"
      ]
     },
     "metadata": {},
     "output_type": "display_data"
    }
   ],
   "source": [
    "d<-data[2:9]\n",
    "\n",
    "pc<-princomp(d)\n",
    "summary(pc)"
   ]
  }
 ],
 "metadata": {
  "kernelspec": {
   "display_name": "R",
   "language": "R",
   "name": "ir"
  },
  "language_info": {
   "codemirror_mode": "r",
   "file_extension": ".r",
   "mimetype": "text/x-r-source",
   "name": "R",
   "pygments_lexer": "r",
   "version": "3.6.1"
  }
 },
 "nbformat": 4,
 "nbformat_minor": 4
}
